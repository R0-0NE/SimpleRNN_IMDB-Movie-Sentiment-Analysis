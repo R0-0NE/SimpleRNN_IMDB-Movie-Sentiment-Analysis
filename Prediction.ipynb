{
  "nbformat": 4,
  "nbformat_minor": 0,
  "metadata": {
    "colab": {
      "provenance": []
    },
    "kernelspec": {
      "name": "python3",
      "display_name": "Python 3"
    },
    "language_info": {
      "name": "python"
    }
  },
  "cells": [
    {
      "cell_type": "code",
      "execution_count": 1,
      "metadata": {
        "id": "3rZHNFc38QxX"
      },
      "outputs": [],
      "source": [
        "import numpy as np\n",
        "import tensorflow as tf\n",
        "from tensorflow.keras.datasets import imdb\n",
        "from tensorflow.keras.preprocessing import sequence\n",
        "from tensorflow.keras.models import load_model"
      ]
    },
    {
      "cell_type": "code",
      "source": [
        "word_index=imdb.get_word_index()\n",
        "reverse_wordindex={value: key for key,value in word_index.items()}"
      ],
      "metadata": {
        "colab": {
          "base_uri": "https://localhost:8080/"
        },
        "id": "ePa6Vwue8xk_",
        "outputId": "9e279424-e7df-4663-d640-5343426dbae6"
      },
      "execution_count": 2,
      "outputs": [
        {
          "output_type": "stream",
          "name": "stdout",
          "text": [
            "Downloading data from https://storage.googleapis.com/tensorflow/tf-keras-datasets/imdb_word_index.json\n",
            "\u001b[1m1641221/1641221\u001b[0m \u001b[32m━━━━━━━━━━━━━━━━━━━━\u001b[0m\u001b[37m\u001b[0m \u001b[1m0s\u001b[0m 0us/step\n"
          ]
        }
      ]
    },
    {
      "cell_type": "code",
      "source": [
        "model=load_model('simple_rnn_imdb.h5')\n",
        "model.summary()"
      ],
      "metadata": {
        "colab": {
          "base_uri": "https://localhost:8080/",
          "height": 269
        },
        "id": "9ePT4eM09DOk",
        "outputId": "975b38a5-9570-46c1-f8b3-7cb5321d8ec6"
      },
      "execution_count": 3,
      "outputs": [
        {
          "output_type": "stream",
          "name": "stderr",
          "text": [
            "WARNING:absl:Compiled the loaded model, but the compiled metrics have yet to be built. `model.compile_metrics` will be empty until you train or evaluate the model.\n"
          ]
        },
        {
          "output_type": "display_data",
          "data": {
            "text/plain": [
              "\u001b[1mModel: \"sequential_9\"\u001b[0m\n"
            ],
            "text/html": [
              "<pre style=\"white-space:pre;overflow-x:auto;line-height:normal;font-family:Menlo,'DejaVu Sans Mono',consolas,'Courier New',monospace\"><span style=\"font-weight: bold\">Model: \"sequential_9\"</span>\n",
              "</pre>\n"
            ]
          },
          "metadata": {}
        },
        {
          "output_type": "display_data",
          "data": {
            "text/plain": [
              "┏━━━━━━━━━━━━━━━━━━━━━━━━━━━━━━━━━━━━━━┳━━━━━━━━━━━━━━━━━━━━━━━━━━━━━┳━━━━━━━━━━━━━━━━━┓\n",
              "┃\u001b[1m \u001b[0m\u001b[1mLayer (type)                        \u001b[0m\u001b[1m \u001b[0m┃\u001b[1m \u001b[0m\u001b[1mOutput Shape               \u001b[0m\u001b[1m \u001b[0m┃\u001b[1m \u001b[0m\u001b[1m        Param #\u001b[0m\u001b[1m \u001b[0m┃\n",
              "┡━━━━━━━━━━━━━━━━━━━━━━━━━━━━━━━━━━━━━━╇━━━━━━━━━━━━━━━━━━━━━━━━━━━━━╇━━━━━━━━━━━━━━━━━┩\n",
              "│ embedding_8 (\u001b[38;5;33mEmbedding\u001b[0m)              │ (\u001b[38;5;34m32\u001b[0m, \u001b[38;5;34m500\u001b[0m, \u001b[38;5;34m128\u001b[0m)              │       \u001b[38;5;34m1,280,000\u001b[0m │\n",
              "├──────────────────────────────────────┼─────────────────────────────┼─────────────────┤\n",
              "│ simple_rnn_4 (\u001b[38;5;33mSimpleRNN\u001b[0m)             │ (\u001b[38;5;34m32\u001b[0m, \u001b[38;5;34m128\u001b[0m)                   │          \u001b[38;5;34m32,896\u001b[0m │\n",
              "├──────────────────────────────────────┼─────────────────────────────┼─────────────────┤\n",
              "│ dense_4 (\u001b[38;5;33mDense\u001b[0m)                      │ (\u001b[38;5;34m32\u001b[0m, \u001b[38;5;34m1\u001b[0m)                     │             \u001b[38;5;34m129\u001b[0m │\n",
              "└──────────────────────────────────────┴─────────────────────────────┴─────────────────┘\n"
            ],
            "text/html": [
              "<pre style=\"white-space:pre;overflow-x:auto;line-height:normal;font-family:Menlo,'DejaVu Sans Mono',consolas,'Courier New',monospace\">┏━━━━━━━━━━━━━━━━━━━━━━━━━━━━━━━━━━━━━━┳━━━━━━━━━━━━━━━━━━━━━━━━━━━━━┳━━━━━━━━━━━━━━━━━┓\n",
              "┃<span style=\"font-weight: bold\"> Layer (type)                         </span>┃<span style=\"font-weight: bold\"> Output Shape                </span>┃<span style=\"font-weight: bold\">         Param # </span>┃\n",
              "┡━━━━━━━━━━━━━━━━━━━━━━━━━━━━━━━━━━━━━━╇━━━━━━━━━━━━━━━━━━━━━━━━━━━━━╇━━━━━━━━━━━━━━━━━┩\n",
              "│ embedding_8 (<span style=\"color: #0087ff; text-decoration-color: #0087ff\">Embedding</span>)              │ (<span style=\"color: #00af00; text-decoration-color: #00af00\">32</span>, <span style=\"color: #00af00; text-decoration-color: #00af00\">500</span>, <span style=\"color: #00af00; text-decoration-color: #00af00\">128</span>)              │       <span style=\"color: #00af00; text-decoration-color: #00af00\">1,280,000</span> │\n",
              "├──────────────────────────────────────┼─────────────────────────────┼─────────────────┤\n",
              "│ simple_rnn_4 (<span style=\"color: #0087ff; text-decoration-color: #0087ff\">SimpleRNN</span>)             │ (<span style=\"color: #00af00; text-decoration-color: #00af00\">32</span>, <span style=\"color: #00af00; text-decoration-color: #00af00\">128</span>)                   │          <span style=\"color: #00af00; text-decoration-color: #00af00\">32,896</span> │\n",
              "├──────────────────────────────────────┼─────────────────────────────┼─────────────────┤\n",
              "│ dense_4 (<span style=\"color: #0087ff; text-decoration-color: #0087ff\">Dense</span>)                      │ (<span style=\"color: #00af00; text-decoration-color: #00af00\">32</span>, <span style=\"color: #00af00; text-decoration-color: #00af00\">1</span>)                     │             <span style=\"color: #00af00; text-decoration-color: #00af00\">129</span> │\n",
              "└──────────────────────────────────────┴─────────────────────────────┴─────────────────┘\n",
              "</pre>\n"
            ]
          },
          "metadata": {}
        },
        {
          "output_type": "display_data",
          "data": {
            "text/plain": [
              "\u001b[1m Total params: \u001b[0m\u001b[38;5;34m1,313,027\u001b[0m (5.01 MB)\n"
            ],
            "text/html": [
              "<pre style=\"white-space:pre;overflow-x:auto;line-height:normal;font-family:Menlo,'DejaVu Sans Mono',consolas,'Courier New',monospace\"><span style=\"font-weight: bold\"> Total params: </span><span style=\"color: #00af00; text-decoration-color: #00af00\">1,313,027</span> (5.01 MB)\n",
              "</pre>\n"
            ]
          },
          "metadata": {}
        },
        {
          "output_type": "display_data",
          "data": {
            "text/plain": [
              "\u001b[1m Trainable params: \u001b[0m\u001b[38;5;34m1,313,025\u001b[0m (5.01 MB)\n"
            ],
            "text/html": [
              "<pre style=\"white-space:pre;overflow-x:auto;line-height:normal;font-family:Menlo,'DejaVu Sans Mono',consolas,'Courier New',monospace\"><span style=\"font-weight: bold\"> Trainable params: </span><span style=\"color: #00af00; text-decoration-color: #00af00\">1,313,025</span> (5.01 MB)\n",
              "</pre>\n"
            ]
          },
          "metadata": {}
        },
        {
          "output_type": "display_data",
          "data": {
            "text/plain": [
              "\u001b[1m Non-trainable params: \u001b[0m\u001b[38;5;34m0\u001b[0m (0.00 B)\n"
            ],
            "text/html": [
              "<pre style=\"white-space:pre;overflow-x:auto;line-height:normal;font-family:Menlo,'DejaVu Sans Mono',consolas,'Courier New',monospace\"><span style=\"font-weight: bold\"> Non-trainable params: </span><span style=\"color: #00af00; text-decoration-color: #00af00\">0</span> (0.00 B)\n",
              "</pre>\n"
            ]
          },
          "metadata": {}
        },
        {
          "output_type": "display_data",
          "data": {
            "text/plain": [
              "\u001b[1m Optimizer params: \u001b[0m\u001b[38;5;34m2\u001b[0m (12.00 B)\n"
            ],
            "text/html": [
              "<pre style=\"white-space:pre;overflow-x:auto;line-height:normal;font-family:Menlo,'DejaVu Sans Mono',consolas,'Courier New',monospace\"><span style=\"font-weight: bold\"> Optimizer params: </span><span style=\"color: #00af00; text-decoration-color: #00af00\">2</span> (12.00 B)\n",
              "</pre>\n"
            ]
          },
          "metadata": {}
        }
      ]
    },
    {
      "cell_type": "code",
      "source": [
        "model.get_weights()"
      ],
      "metadata": {
        "colab": {
          "base_uri": "https://localhost:8080/"
        },
        "id": "s0TQdB-h9Sop",
        "outputId": "0b1bf2ef-0db2-4181-b1ed-24fe8e54f68c"
      },
      "execution_count": 4,
      "outputs": [
        {
          "output_type": "execute_result",
          "data": {
            "text/plain": [
              "[array([[-0.04781329, -0.11965027,  0.05611622, ...,  0.01265125,\n",
              "         -0.05765891,  0.03202311],\n",
              "        [-0.06404983, -0.07843404,  0.03671995, ...,  0.02166521,\n",
              "         -0.01603624,  0.04884992],\n",
              "        [-0.10799427,  0.11454268,  0.14478484, ..., -0.1285312 ,\n",
              "         -0.13973789, -0.09846563],\n",
              "        ...,\n",
              "        [ 0.04077645, -0.01285973, -0.0632283 , ..., -0.01437276,\n",
              "         -0.02615063, -0.05712298],\n",
              "        [ 0.11734283,  0.14917968, -0.19997239, ..., -0.01325835,\n",
              "          0.09415782, -0.14660639],\n",
              "        [-0.09943798, -0.14382413,  0.02622113, ...,  0.01341223,\n",
              "         -0.05312179,  0.1550645 ]], dtype=float32),\n",
              " array([[-0.10921588,  0.09024233,  0.00773924, ...,  0.01784839,\n",
              "         -0.06767339,  0.17265745],\n",
              "        [ 0.09328781,  0.1191371 , -0.1238348 , ..., -0.15159939,\n",
              "         -0.02935509,  0.19263515],\n",
              "        [ 0.01199551,  0.03877303,  0.07509428, ...,  0.06467501,\n",
              "          0.02966119, -0.15720181],\n",
              "        ...,\n",
              "        [-0.0255939 ,  0.12266829,  0.00695308, ..., -0.03065061,\n",
              "          0.1245802 , -0.09755574],\n",
              "        [-0.00961183,  0.11541671,  0.13069366, ..., -0.00753537,\n",
              "         -0.03673989,  0.16712475],\n",
              "        [ 0.04905455, -0.16650167,  0.00848051, ..., -0.10494868,\n",
              "          0.08465375,  0.03888557]], dtype=float32),\n",
              " array([[-0.05368787,  0.1599567 , -0.12304924, ..., -0.11748099,\n",
              "          0.09843989,  0.24760924],\n",
              "        [ 0.08116868, -0.08476074, -0.00367425, ..., -0.11741518,\n",
              "         -0.07934221, -0.00713962],\n",
              "        [ 0.06376139, -0.15163732,  0.03863014, ...,  0.03540785,\n",
              "          0.08371742,  0.07209515],\n",
              "        ...,\n",
              "        [-0.13471358, -0.01726454, -0.1458705 , ...,  0.05937495,\n",
              "         -0.00361578, -0.08066657],\n",
              "        [-0.1535314 , -0.02769176, -0.09313171, ..., -0.01915742,\n",
              "         -0.06251407, -0.02536133],\n",
              "        [ 0.11345394,  0.05171346, -0.17707105, ..., -0.09109695,\n",
              "         -0.06162234,  0.18535304]], dtype=float32),\n",
              " array([-0.02792787, -0.00486385, -0.02312763,  0.01088631,  0.00994751,\n",
              "        -0.00876454, -0.00922642, -0.00031193, -0.00833927, -0.02759531,\n",
              "        -0.02022886,  0.02442152, -0.0097392 ,  0.01483089, -0.0131154 ,\n",
              "         0.01015797, -0.03185152, -0.03802704,  0.00082611, -0.02307788,\n",
              "        -0.01722958,  0.00746723, -0.00118003, -0.03293071,  0.00996473,\n",
              "        -0.07033395,  0.02582647,  0.00401178,  0.02427222,  0.03044507,\n",
              "         0.01429874,  0.00452387,  0.00423433, -0.00569602, -0.05850459,\n",
              "        -0.00484175, -0.02011575,  0.02556177, -0.00461247, -0.0113747 ,\n",
              "        -0.01075065, -0.02024847, -0.01658209,  0.00416863, -0.02465053,\n",
              "         0.00290388, -0.00262042,  0.02443499, -0.01523694,  0.01094147,\n",
              "        -0.00286383, -0.01375759,  0.0204541 ,  0.02214422, -0.02563277,\n",
              "        -0.02014105, -0.01621316,  0.02971853, -0.01304165,  0.00436292,\n",
              "        -0.01639388,  0.00862404, -0.01593664, -0.03471572,  0.02877869,\n",
              "         0.02999221, -0.02837892, -0.05008081,  0.00888409, -0.03675753,\n",
              "         0.03151076,  0.01732351, -0.03862087, -0.01738218,  0.00323326,\n",
              "        -0.01915697,  0.0035202 , -0.03662631, -0.01252916, -0.00105176,\n",
              "        -0.01443427, -0.03582122,  0.00911366,  0.02862539,  0.00937938,\n",
              "        -0.00473011, -0.00550135,  0.00320252, -0.01252373, -0.00535035,\n",
              "        -0.01621695, -0.01145383,  0.00374667, -0.01884294, -0.00245425,\n",
              "        -0.09545373, -0.00674935, -0.00677905,  0.01722932, -0.03194666,\n",
              "        -0.01051973,  0.00171626, -0.03039917, -0.03249169, -0.00167763,\n",
              "         0.0282098 ,  0.00438419, -0.00804414, -0.03630087,  0.01920418,\n",
              "        -0.07237005, -0.02358514,  0.00454754, -0.03256468, -0.00784743,\n",
              "        -0.00346545, -0.01051774, -0.0026538 ,  0.00156783,  0.00400647,\n",
              "         0.03763441,  0.02898415,  0.00887629, -0.02447958, -0.02284098,\n",
              "         0.00449996,  0.02622199,  0.03850624], dtype=float32),\n",
              " array([[-1.53292701e-01],\n",
              "        [ 1.77802041e-03],\n",
              "        [ 1.69225693e-01],\n",
              "        [ 8.04810300e-02],\n",
              "        [-3.16791721e-02],\n",
              "        [-1.97498240e-02],\n",
              "        [-1.97952196e-01],\n",
              "        [-7.31726438e-02],\n",
              "        [-2.65515655e-01],\n",
              "        [-5.39172292e-02],\n",
              "        [-1.29003059e-02],\n",
              "        [ 8.80893171e-02],\n",
              "        [ 4.64263093e-03],\n",
              "        [-4.40652892e-02],\n",
              "        [-2.32597023e-01],\n",
              "        [-4.57107395e-01],\n",
              "        [ 2.16615096e-01],\n",
              "        [ 1.31328525e-02],\n",
              "        [-2.22772971e-01],\n",
              "        [-5.35152154e-04],\n",
              "        [ 8.68010744e-02],\n",
              "        [ 8.52136612e-02],\n",
              "        [-2.10077420e-01],\n",
              "        [-1.13488302e-01],\n",
              "        [-1.23814538e-01],\n",
              "        [-1.88846648e-01],\n",
              "        [-1.51321337e-01],\n",
              "        [-1.27654687e-01],\n",
              "        [-3.65961313e-01],\n",
              "        [-6.47120476e-02],\n",
              "        [ 1.98869444e-02],\n",
              "        [-5.65120503e-02],\n",
              "        [-1.60812572e-01],\n",
              "        [-5.19283563e-02],\n",
              "        [-1.04930326e-02],\n",
              "        [ 2.22602129e-01],\n",
              "        [-2.53795777e-02],\n",
              "        [ 1.42782251e-03],\n",
              "        [-1.02162182e-01],\n",
              "        [-8.34070668e-02],\n",
              "        [ 4.79989983e-02],\n",
              "        [-2.22312927e-01],\n",
              "        [ 2.23378032e-01],\n",
              "        [-9.32855085e-02],\n",
              "        [-6.31248727e-02],\n",
              "        [-1.06353797e-01],\n",
              "        [-2.70175338e-01],\n",
              "        [ 1.11542344e-01],\n",
              "        [-4.02340628e-02],\n",
              "        [-1.36665449e-01],\n",
              "        [-1.60741195e-01],\n",
              "        [-3.76634672e-02],\n",
              "        [-1.75074726e-01],\n",
              "        [-2.13680699e-01],\n",
              "        [-1.86763197e-01],\n",
              "        [-8.39459151e-02],\n",
              "        [ 1.54638588e-01],\n",
              "        [ 2.48240307e-01],\n",
              "        [-4.16423082e-02],\n",
              "        [-1.11785017e-01],\n",
              "        [-1.58030108e-01],\n",
              "        [ 2.95473009e-01],\n",
              "        [-4.97846417e-02],\n",
              "        [ 3.91557813e-02],\n",
              "        [ 6.71994984e-02],\n",
              "        [ 8.79650041e-02],\n",
              "        [-7.52613544e-02],\n",
              "        [ 1.44996360e-01],\n",
              "        [-1.75976604e-01],\n",
              "        [ 2.46339470e-01],\n",
              "        [ 5.61169237e-02],\n",
              "        [ 4.18018065e-02],\n",
              "        [-3.73597920e-01],\n",
              "        [-1.48685217e-01],\n",
              "        [-3.85202080e-01],\n",
              "        [ 5.80651283e-01],\n",
              "        [-6.26371801e-01],\n",
              "        [ 2.21717596e-01],\n",
              "        [-4.32616509e-02],\n",
              "        [-5.12267044e-03],\n",
              "        [-1.19002879e-01],\n",
              "        [-3.73783382e-03],\n",
              "        [-1.96665972e-01],\n",
              "        [-1.27787516e-02],\n",
              "        [-1.02694646e-01],\n",
              "        [-5.98618209e-01],\n",
              "        [-5.93246162e-01],\n",
              "        [-2.54937142e-01],\n",
              "        [ 2.44282514e-01],\n",
              "        [ 1.55771554e-01],\n",
              "        [-8.87067895e-03],\n",
              "        [ 1.83185264e-02],\n",
              "        [-3.08881789e-01],\n",
              "        [-2.10674286e-01],\n",
              "        [-1.16030343e-01],\n",
              "        [ 3.04882556e-01],\n",
              "        [ 1.53454095e-01],\n",
              "        [-6.51821196e-02],\n",
              "        [-1.71702832e-01],\n",
              "        [-1.53238520e-01],\n",
              "        [-8.63880068e-02],\n",
              "        [ 7.50389919e-02],\n",
              "        [ 2.44033411e-01],\n",
              "        [ 1.56620160e-01],\n",
              "        [-1.05215691e-01],\n",
              "        [ 1.32592827e-01],\n",
              "        [ 1.00501433e-01],\n",
              "        [-8.79564136e-02],\n",
              "        [-9.91415679e-02],\n",
              "        [-1.74714670e-01],\n",
              "        [ 2.59307742e-01],\n",
              "        [ 9.06788632e-02],\n",
              "        [-3.95664424e-02],\n",
              "        [ 1.73637569e-01],\n",
              "        [-3.73167498e-03],\n",
              "        [-1.02803789e-01],\n",
              "        [-4.91115935e-02],\n",
              "        [ 1.58604607e-01],\n",
              "        [ 1.06222080e-02],\n",
              "        [ 9.73037165e-03],\n",
              "        [-2.36248687e-01],\n",
              "        [ 4.51648571e-02],\n",
              "        [-7.75977850e-01],\n",
              "        [-1.62057593e-01],\n",
              "        [ 3.42249572e-02],\n",
              "        [-4.32998650e-02],\n",
              "        [-7.33104199e-02],\n",
              "        [-1.37392893e-01]], dtype=float32),\n",
              " array([-1.1476728], dtype=float32)]"
            ]
          },
          "metadata": {},
          "execution_count": 4
        }
      ]
    },
    {
      "cell_type": "code",
      "source": [
        "#helper function\n",
        "def decoded_review(encoded_review):\n",
        "  return ' '.join([reverse_wordindex.get(i-3,'?')for i in encoded_review])\n",
        "\n",
        "#function preprocess user input\n",
        "def preprocess_text(text):\n",
        "  words=text.lower().split()\n",
        "  encoded_review=[word_index.get(word,2) + 3 for word in words]\n",
        "  padded_review=sequence.pad_sequences([encoded_review],maxlen=500)\n",
        "  return padded_review\n"
      ],
      "metadata": {
        "id": "9u_zh0hQ9abe"
      },
      "execution_count": 5,
      "outputs": []
    },
    {
      "cell_type": "code",
      "source": [
        "#predict function\n",
        "def predict_sentiment(review):\n",
        "  preprocess_input=preprocess_text(review)\n",
        "  prediction=model.predict(preprocess_input)\n",
        "  sentiment='Positve' if prediction[0][0]>0.5 else 'Negative'\n",
        "  return sentiment , prediction[0][0]"
      ],
      "metadata": {
        "id": "ZiQjuchC_BEE"
      },
      "execution_count": 6,
      "outputs": []
    },
    {
      "cell_type": "code",
      "source": [
        "#testing example for prediction\n",
        "example_review='Very worst movie'\n",
        "sentiment,score=predict_sentiment(example_review)\n",
        "print(f'Review: {example_review}')\n",
        "print(f'Sentiment: {sentiment}')\n",
        "print(f'Score: {score}')"
      ],
      "metadata": {
        "colab": {
          "base_uri": "https://localhost:8080/"
        },
        "id": "xqPl4Zue_0G7",
        "outputId": "8b41a045-8e0d-4e81-9edb-a55a49628332"
      },
      "execution_count": 11,
      "outputs": [
        {
          "output_type": "stream",
          "name": "stdout",
          "text": [
            "\u001b[1m1/1\u001b[0m \u001b[32m━━━━━━━━━━━━━━━━━━━━\u001b[0m\u001b[37m\u001b[0m \u001b[1m0s\u001b[0m 39ms/step\n",
            "Review: Very worst movie\n",
            "Sentiment: Positve\n",
            "Score: 0.9973435401916504\n"
          ]
        }
      ]
    }
  ]
}